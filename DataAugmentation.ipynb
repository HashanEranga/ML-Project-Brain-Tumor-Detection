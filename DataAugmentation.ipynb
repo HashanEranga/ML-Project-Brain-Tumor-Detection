{
 "cells": [
  {
   "cell_type": "markdown",
   "metadata": {},
   "source": [
    "<b>Import the necessary files for the coding</b> "
   ]
  },
  {
   "cell_type": "code",
   "execution_count": 2,
   "metadata": {},
   "outputs": [],
   "source": [
    "#using tensorflow end to end open source platform\n",
    "import tensorflow as tf\n",
    "\n",
    "#import necessary image generating tool from Keras\n",
    "from keras.preprocessing.image import ImageDataGenerator\n",
    "\n",
    "#import computer vision 2 libraries\n",
    "import cv2\n",
    "\n",
    "#For basic image processing functions like transition rotation\n",
    "import imutils\n",
    "\n",
    "#use to plot variences\n",
    "import matplotlib.pyplot as plt\n",
    "\n",
    "#use to browse through the directories\n",
    "from os import listdir\n",
    "\n",
    "#for timing the model training to determine the time consumption and\n",
    "#evaluate models with time\n",
    "import time"
   ]
  },
  {
   "cell_type": "markdown",
   "metadata": {},
   "source": [
    "<b>Define the timing function for calculate time</b>"
   ]
  },
  {
   "cell_type": "code",
   "execution_count": 3,
   "metadata": {},
   "outputs": [],
   "source": [
    "#timing function for determine time consumpptions using a function\n",
    "def hms_string(sec):\n",
    "    h = int(sec / (60 * 60))\n",
    "    m = int((sec % (60 * 60)) / 60)\n",
    "    s = sec % 60\n",
    "    return f\"{h}:{m}:{round(s,1)}\""
   ]
  },
  {
   "cell_type": "markdown",
   "metadata": {},
   "source": [
    "<b>Generate more images since the images are not enough for the training using the function augment_data</b>"
   ]
  },
  {
   "cell_type": "code",
   "execution_count": 4,
   "metadata": {},
   "outputs": [],
   "source": [
    "#import necessary image generating tool from Keras\n",
    "#import an image and generate more images like flipping , rotating\n",
    "from keras.preprocessing.image import ImageDataGenerator\n",
    "\n",
    "#use to browse through the directories\n",
    "from os import listdir\n",
    "\n",
    "def augment_data(file_dir, n_generated_samples, save_to_dir):\n",
    "    \n",
    "    data_gen = ImageDataGenerator(rotation_range=10, \n",
    "                                  width_shift_range=0.1, \n",
    "                                  height_shift_range=0.1, \n",
    "                                  shear_range=0.1, \n",
    "                                  brightness_range=(0.3, 1.0),\n",
    "                                  horizontal_flip=True, \n",
    "                                  vertical_flip=True, \n",
    "                                  fill_mode='nearest'\n",
    "                                 )\n",
    "\n",
    "    #file name determine the files in the given directory\n",
    "    for filename in listdir(file_dir):\n",
    "        \n",
    "        # load the image\n",
    "        image = cv2.imread(file_dir + '\\\\' + filename)\n",
    "        \n",
    "        # reshape the image\n",
    "        image = image.reshape((1,)+image.shape)\n",
    "        \n",
    "        # prefix of the names for the generated sampels.\n",
    "        save_prefix = 'aug_' + filename[:-4]\n",
    "        \n",
    "        # generate 'n_generated_samples' sample images\n",
    "        i=0\n",
    "        for batch in data_gen.flow(x=image, batch_size=1, save_to_dir=save_to_dir, \n",
    "                                           save_prefix=save_prefix, save_format='jpg'):\n",
    "            i += 1\n",
    "            if i > n_generated_samples:\n",
    "                break"
   ]
  },
  {
   "cell_type": "code",
   "execution_count": 5,
   "metadata": {},
   "outputs": [],
   "source": [
    "#Define file paths to import the images\n",
    "yes_path = '165566_377107_bundle_archive/brain_tumor_dataset/yes'\n",
    "no_path = '165566_377107_bundle_archive/brain_tumor_dataset/no'\n"
   ]
  },
  {
   "cell_type": "markdown",
   "metadata": {},
   "source": [
    "<b>Initiate the Augmentations by running the function</b>"
   ]
  },
  {
   "cell_type": "code",
   "execution_count": 6,
   "metadata": {},
   "outputs": [
    {
     "name": "stdout",
     "output_type": "stream",
     "text": [
      "Elapsed time: 0:2:10.5\n"
     ]
    }
   ],
   "source": [
    "#determine the starting time of the augmetations\n",
    "start_time = time.time()\n",
    "\n",
    "augmented_data_path = '165566_377107_bundle_archive/brain_tumor_dataset/'\n",
    "\n",
    "# augment data for the examples with label equal to 'yes1' representing tumurous examples\n",
    "augment_data(file_dir=yes_path, n_generated_samples=6, save_to_dir=augmented_data_path+'yes1')\n",
    "# augment data for the examples with label equal to 'no1' representing non-tumurous examples\n",
    "augment_data(file_dir=no_path, n_generated_samples=9, save_to_dir=augmented_data_path+'no1')\n",
    "\n",
    "#determine the end time of the augmentation of the data\n",
    "end_time = time.time()\n",
    "\n",
    "#evaluates the time consumption\n",
    "execution_time = (end_time - start_time)\n",
    "\n",
    "#print the elapced time\n",
    "print(f\"Elapsed time: {hms_string(execution_time)}\")"
   ]
  },
  {
   "cell_type": "markdown",
   "metadata": {},
   "source": [
    "<b>Created the data summary up to now</b>"
   ]
  },
  {
   "cell_type": "code",
   "execution_count": 7,
   "metadata": {},
   "outputs": [],
   "source": [
    "#here this will generates some details on the augmented data summary\n",
    "def data_summary(main_path):\n",
    "    \n",
    "    yes_path = main_path+'yes1'\n",
    "    no_path = main_path+'no1'\n",
    "        \n",
    "    # number of files (images) that are in the the folder named 'yes' that represent tumorous (positive) examples\n",
    "    m_pos = len(listdir(yes_path))\n",
    "    # number of files (images) that are in the the folder named 'no' that represent non-tumorous (negative) examples\n",
    "    m_neg = len(listdir(no_path))\n",
    "    # number of all examples\n",
    "    m = (m_pos+m_neg)\n",
    "    \n",
    "    pos_prec = (m_pos* 100.0)/ m\n",
    "    neg_prec = (m_neg* 100.0)/ m\n",
    "    \n",
    "    print(f\"Number of examples: {m}\")\n",
    "    print(f\"Percentage of positive examples: {pos_prec}%, number of pos examples: {m_pos}\") \n",
    "    print(f\"Percentage of negative examples: {neg_prec}%, number of neg examples: {m_neg}\")"
   ]
  },
  {
   "cell_type": "markdown",
   "metadata": {},
   "source": [
    "<b> Run the data summary function</b>"
   ]
  },
  {
   "cell_type": "code",
   "execution_count": 8,
   "metadata": {},
   "outputs": [
    {
     "name": "stdout",
     "output_type": "stream",
     "text": [
      "Number of examples: 2473\n",
      "Percentage of positive examples: 50.66720582288718%, number of pos examples: 1253\n",
      "Percentage of negative examples: 49.33279417711282%, number of neg examples: 1220\n"
     ]
    }
   ],
   "source": [
    "data_summary(augmented_data_path)"
   ]
  },
  {
   "cell_type": "code",
   "execution_count": null,
   "metadata": {},
   "outputs": [],
   "source": []
  }
 ],
 "metadata": {
  "kernelspec": {
   "display_name": "Python 3",
   "language": "python",
   "name": "python3"
  },
  "language_info": {
   "codemirror_mode": {
    "name": "ipython",
    "version": 3
   },
   "file_extension": ".py",
   "mimetype": "text/x-python",
   "name": "python",
   "nbconvert_exporter": "python",
   "pygments_lexer": "ipython3",
   "version": "3.7.4"
  }
 },
 "nbformat": 4,
 "nbformat_minor": 2
}
